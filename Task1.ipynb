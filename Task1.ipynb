{
 "cells": [
  {
   "cell_type": "markdown",
   "id": "9ac940b1",
   "metadata": {},
   "source": [
    "# Task 1 – Generation Data Science and ML"
   ]
  },
  {
   "cell_type": "markdown",
   "id": "59d3dcf7",
   "metadata": {},
   "source": [
    "Maria Nikitha Suresh<br>\n",
    "Masters in Data Science<br>\n",
    "marianikitha@arizona.edu"
   ]
  },
  {
   "cell_type": "code",
   "execution_count": null,
   "id": "357f34c6",
   "metadata": {},
   "outputs": [],
   "source": [
    "pip install vaderSentiment"
   ]
  },
  {
   "cell_type": "code",
   "execution_count": 1,
   "id": "ab29740f",
   "metadata": {},
   "outputs": [],
   "source": [
    "#Importing the required libraries\n",
    "import requests\n",
    "from bs4 import BeautifulSoup\n",
    "import nltk\n",
    "from nltk import word_tokenize, sent_tokenize, pos_tag\n",
    "import csv\n",
    "import time\n",
    "from urllib.parse import urljoin, urlparse"
   ]
  },
  {
   "cell_type": "code",
   "execution_count": 2,
   "id": "32c501f4",
   "metadata": {},
   "outputs": [
    {
     "name": "stderr",
     "output_type": "stream",
     "text": [
      "[nltk_data] Downloading package averaged_perceptron_tagger to\n",
      "[nltk_data]     C:\\Users\\Nikitha\\AppData\\Roaming\\nltk_data...\n",
      "[nltk_data]   Package averaged_perceptron_tagger is already up-to-\n",
      "[nltk_data]       date!\n"
     ]
    },
    {
     "data": {
      "text/plain": [
       "True"
      ]
     },
     "execution_count": 2,
     "metadata": {},
     "output_type": "execute_result"
    }
   ],
   "source": [
    "#Download NLTK's 'averaged_perceptron_tagger' \n",
    "nltk.download('averaged_perceptron_tagger')"
   ]
  },
  {
   "cell_type": "code",
   "execution_count": 3,
   "id": "ab58cea6",
   "metadata": {},
   "outputs": [],
   "source": [
    "# Function to scrape a webpage and return its content\n",
    "def scrape_page(url):\n",
    "    response = requests.get(url)  # Send a GET request to the provided URL\n",
    "    soup = BeautifulSoup(response.text, 'html.parser')  # Parse the response content using BeautifulSoup\n",
    "    content = soup.get_text()  # Extract the content from the webpage\n",
    "    return content  # Return the extracted content"
   ]
  },
  {
   "cell_type": "code",
   "execution_count": 4,
   "id": "a390a386",
   "metadata": {},
   "outputs": [],
   "source": [
    "# Function to calculate NLP statistics from the given text\n",
    "def calculate_nlp_statistics(text):\n",
    "    words = word_tokenize(text)  # Tokenize the text into words\n",
    "    sentences = sent_tokenize(text)  # Tokenize the text into sentences\n",
    "    \n",
    "    # Perform POS (Part-of-Speech) tagging on the words\n",
    "    pos_tags = pos_tag(words)\n",
    "    \n",
    "    # Count the number of nouns, verbs, and adjectives using POS tags\n",
    "    noun_count = sum(1 for word, pos in pos_tags if pos.startswith('NN'))\n",
    "    verb_count = sum(1 for word, pos in pos_tags if pos.startswith('VB'))\n",
    "    adj_count = sum(1 for word, pos in pos_tags if pos.startswith('JJ'))\n",
    "    \n",
    "    # Calculate word count, sentence count, and average word length\n",
    "    word_count = len(words)\n",
    "    sentence_count = len(sentences)\n",
    "    avg_word_length = sum(len(word) for word in words) / word_count if word_count != 0 else 0  \n",
    "    \n",
    "    # Return the calculated statistics\n",
    "    return {\n",
    "        'word_count': word_count,\n",
    "        'sentence_count': sentence_count,\n",
    "        'avg_word_length': avg_word_length,\n",
    "        'noun_count': noun_count,\n",
    "        'verb_count': verb_count,\n",
    "        'adj_count': adj_count\n",
    "    }\n"
   ]
  },
  {
   "cell_type": "code",
   "execution_count": 5,
   "id": "c8fc4663",
   "metadata": {},
   "outputs": [],
   "source": [
    "# Function to save detailed results to a CSV file\n",
    "def save_results_to_csv(results, filename):\n",
    "    keys = results[0].keys()  \n",
    "    with open(filename, 'w', newline='', encoding='utf-8') as output_file:  # Opening the CSV file for writing\n",
    "        dict_writer = csv.DictWriter(output_file, fieldnames=keys)  # Created a DictWriter for writing dictionaries to CSV\n",
    "        dict_writer.writeheader()  # Writing the column names\n",
    "        dict_writer.writerows(results)  # Writing the rows\n"
   ]
  },
  {
   "cell_type": "code",
   "execution_count": 6,
   "id": "c25ecd50",
   "metadata": {},
   "outputs": [],
   "source": [
    "# Function to save aggregated results to a CSV file\n",
    "def save_aggregated_results(aggregated_result, filename):\n",
    "    with open(filename, 'w', newline='', encoding='utf-8') as output_file:  # Open the CSV file for writing\n",
    "        writer = csv.DictWriter(output_file, fieldnames=aggregated_result.keys())  # Create a DictWriter fot writing values to CSV\n",
    "        writer.writeheader()  # Writing the column names\n",
    "        writer.writerow(aggregated_result)  # Write the single row of aggregated results"
   ]
  },
  {
   "cell_type": "code",
   "execution_count": 7,
   "id": "8b863d66",
   "metadata": {},
   "outputs": [],
   "source": [
    "# Function to crawl a website and collect up to 'max_pages' URLs\n",
    "def crawl_website(start_url, max_pages):\n",
    "    urls_to_scrape = set()  # Initialize a set to store unique URLs to scrape\n",
    "    urls_to_visit = [start_url]  # Initialize the list of URLs to visit with the start URL\n",
    "    visited_urls = set()  # Initialize a set to store visited URLs\n",
    "    \n",
    "    while urls_to_visit and len(urls_to_scrape) < max_pages:  # Continue until we have enough URLs or no more to visit\n",
    "        current_url = urls_to_visit.pop(0)  # Get the next URL to visit\n",
    "        if current_url in visited_urls:  # Skip if the URL has already been visited\n",
    "            continue\n",
    "        \n",
    "        visited_urls.add(current_url)  # Mark the URL as visited\n",
    "        try:\n",
    "            response = requests.get(current_url)  # Send a GET request to the current URL\n",
    "            soup = BeautifulSoup(response.text, 'html.parser')  # Parse the response content\n",
    "            \n",
    "            urls_to_scrape.add(current_url)  # Add the current URL to the set of URLs to scrape\n",
    "            \n",
    "            # Find all links on the current page\n",
    "            for link in soup.find_all('a', href=True):\n",
    "                full_url = urljoin(current_url, link['href'])  # Resolve relative URLs\n",
    "                parsed_url = urlparse(full_url)  # Parse the URL\n",
    "                # Add URLs belonging to the same domain and not visited yet\n",
    "                if parsed_url.netloc == urlparse(start_url).netloc and full_url not in visited_urls:\n",
    "                    urls_to_visit.append(full_url)  # Add the full URL to the visit list\n",
    "                    \n",
    "            # Print the progress of crawling\n",
    "            print(f\"Crawled: {current_url} | Page: {len(urls_to_scrape)}\")\n",
    "            \n",
    "            time.sleep(1)  # Pause for a second to avoid overwhelming the server\n",
    "            \n",
    "        except Exception as e:  # Handle any exceptions that occur during the request\n",
    "            print(f\"Failed to crawl {current_url}: {e}\")\n",
    "    \n",
    "    return list(urls_to_scrape)  # Return the list of URLs to scrape"
   ]
  },
  {
   "cell_type": "code",
   "execution_count": 8,
   "id": "71b736fe",
   "metadata": {},
   "outputs": [],
   "source": [
    "# Function to calculate aggregated statistics (averages) from the results\n",
    "def calculate_aggregated_statistics(results):\n",
    "    aggregated_result = {\n",
    "        'avg_word_count': sum(item['word_count'] for item in results) / len(results),  # Calculate average word count\n",
    "        'avg_sentence_count': sum(item['sentence_count'] for item in results) / len(results),  # Calculate average sentence count\n",
    "        'avg_word_length': sum(item['avg_word_length'] for item in results) / len(results),  # Calculate average word length\n",
    "        'avg_noun_count': sum(item['noun_count'] for item in results) / len(results),  # Calculate average noun count\n",
    "        'avg_verb_count': sum(item['verb_count'] for item in results) / len(results),  # Calculate average verb count\n",
    "        'avg_adj_count': sum(item['adj_count'] for item in results) / len(results)  # Calculate average adjective count\n",
    "    }\n",
    "    return aggregated_result  # Return the aggregated statistics"
   ]
  },
  {
   "cell_type": "code",
   "execution_count": 9,
   "id": "72dc9317",
   "metadata": {},
   "outputs": [],
   "source": [
    "# Start URL of the website for webscraping\n",
    "start_url = 'https://www.everydayhealthgroup.com/'"
   ]
  },
  {
   "cell_type": "code",
   "execution_count": 10,
   "id": "2fb2ddb1",
   "metadata": {},
   "outputs": [
    {
     "name": "stdout",
     "output_type": "stream",
     "text": [
      "Crawled: https://www.everydayhealthgroup.com/ | Page: 1\n",
      "Crawled: https://www.everydayhealthgroup.com/cart | Page: 2\n",
      "Crawled: https://www.everydayhealthgroup.com/#page | Page: 3\n",
      "Crawled: https://www.everydayhealthgroup.com/#about | Page: 4\n",
      "Crawled: https://www.everydayhealthgroup.com/#brands | Page: 5\n",
      "Crawled: https://www.everydayhealthgroup.com/#team | Page: 6\n",
      "Crawled: https://www.everydayhealthgroup.com/#news | Page: 7\n",
      "Crawled: https://www.everydayhealthgroup.com/#culture | Page: 8\n",
      "Crawled: https://www.everydayhealthgroup.com/#careers | Page: 9\n",
      "Crawled: https://www.everydayhealthgroup.com/#contact | Page: 10\n",
      "Crawled: https://www.everydayhealthgroup.com/everydayhealthgroup-careers | Page: 11\n",
      "Crawled: https://www.everydayhealthgroup.com/dan-stone-bio | Page: 12\n",
      "Crawled: https://www.everydayhealthgroup.com/tom-dehn-bio | Page: 13\n",
      "Crawled: https://www.everydayhealthgroup.com/deb-goetz-bio | Page: 14\n",
      "Crawled: https://www.everydayhealthgroup.com/sean-alford-bio | Page: 15\n",
      "Crawled: https://www.everydayhealthgroup.com/george-wukoson-bio | Page: 16\n",
      "Crawled: https://www.everydayhealthgroup.com/tom-carr-bio | Page: 17\n",
      "Crawled: https://www.everydayhealthgroup.com/nan-forte-bio | Page: 18\n",
      "Crawled: https://www.everydayhealthgroup.com/david-bernstein-bio | Page: 19\n",
      "Crawled: https://www.everydayhealthgroup.com/steve-bio | Page: 20\n",
      "Crawled: https://www.everydayhealthgroup.com/todd-zander-bio | Page: 21\n",
      "Crawled: https://www.everydayhealthgroup.com/heidi-cho-bio | Page: 22\n",
      "Crawled: https://www.everydayhealthgroup.com/christine-mattheis-bio | Page: 23\n",
      "Crawled: https://www.everydayhealthgroup.com/anita-janapati-bio | Page: 24\n",
      "Crawled: https://www.everydayhealthgroup.com/chris-mcloughlin-bio | Page: 25\n",
      "Crawled: https://www.everydayhealthgroup.com/rachel-warren-bio | Page: 26\n",
      "Crawled: https://www.everydayhealthgroup.com/richard-bio | Page: 27\n",
      "Crawled: https://www.everydayhealthgroup.com/chris-napolitan-bio | Page: 28\n",
      "Crawled: https://www.everydayhealthgroup.com/greg-chang-bio | Page: 29\n",
      "Crawled: https://www.everydayhealthgroup.com/in-the-news/everyday-health-weight-loss-research-study | Page: 30\n",
      "Crawled: https://www.everydayhealthgroup.com/in-the-news/mom-20-iris-awards-to-join-babycenter | Page: 31\n",
      "Crawled: https://www.everydayhealthgroup.com/in-the-news/lose-it-joins-everyday-health-group | Page: 32\n",
      "Crawled: https://www.everydayhealthgroup.com/in-the-news/bp-hope-hope-to-cope | Page: 33\n",
      "Crawled: https://www.everydayhealthgroup.com/in-the-news/diabetes-daily | Page: 34\n",
      "Crawled: https://www.everydayhealthgroup.com/cdn-cgi/l/email-protection#f39a9d959cb3968596818a97928a9b96929f879b94819c8683dd909c9e | Page: 35\n",
      "Crawled: https://www.everydayhealthgroup.com/accessibility | Page: 36\n",
      "Crawled: https://www.everydayhealthgroup.com/cart#page | Page: 37\n",
      "Crawled: https://www.everydayhealthgroup.com/cart#about | Page: 38\n",
      "Crawled: https://www.everydayhealthgroup.com/cart#brands | Page: 39\n",
      "Crawled: https://www.everydayhealthgroup.com/cart#team | Page: 40\n",
      "Crawled: https://www.everydayhealthgroup.com/cart#news | Page: 41\n",
      "Crawled: https://www.everydayhealthgroup.com/cart#culture | Page: 42\n",
      "Crawled: https://www.everydayhealthgroup.com/cart#careers | Page: 43\n",
      "Crawled: https://www.everydayhealthgroup.com/cart#contact | Page: 44\n",
      "Crawled: https://www.everydayhealthgroup.com/cdn-cgi/l/email-protection#ee87808881ae8b988b9c978a8f97868b8f829a86899c819b9ec08d8183 | Page: 45\n",
      "Crawled: https://www.everydayhealthgroup.com/cdn-cgi/l/email-protection#fb92959d94bb9e8d9e89829f9a82939e9a978f939c89948e8bd5989496 | Page: 46\n",
      "Crawled: https://www.everydayhealthgroup.com/cdn-cgi/l/email-protection#2841464e47684d5e4d5a514c4951404d49445c404f5a475d58064b4745 | Page: 47\n",
      "Crawled: https://www.everydayhealthgroup.com/cdn-cgi/l/email-protection#e28b8c848da2879487909b86839b8a87838e968a85908d9792cc818d8f | Page: 48\n",
      "Crawled: https://www.everydayhealthgroup.com/cdn-cgi/l/email-protection#8ce5e2eae3cce9fae9fef5e8edf5e4e9ede0f8e4ebfee3f9fca2efe3e1 | Page: 49\n",
      "Crawled: https://www.everydayhealthgroup.com/cdn-cgi/l/email-protection#a3cacdc5cce3c6d5c6d1dac7c2dacbc6c2cfd7cbc4d1ccd6d38dc0ccce | Page: 50\n",
      "Crawled: https://www.everydayhealthgroup.com/cdn-cgi/l/email-protection#fa93949c95ba9f8c9f88839e9b83929f9b968e929d88958f8ad4999597 | Page: 51\n",
      "Crawled: https://www.everydayhealthgroup.com/cdn-cgi/l/email-protection#cda4a3aba28da8bba8bfb4a9acb4a5a8aca1b9a5aabfa2b8bde3aea2a0 | Page: 52\n",
      "Crawled: https://www.everydayhealthgroup.com/everydayhealthgroup-careers#page | Page: 53\n",
      "Crawled: https://www.everydayhealthgroup.com/everydayhealthgroup-careers#about | Page: 54\n",
      "Crawled: https://www.everydayhealthgroup.com/everydayhealthgroup-careers#brands | Page: 55\n",
      "Crawled: https://www.everydayhealthgroup.com/everydayhealthgroup-careers#team | Page: 56\n",
      "Crawled: https://www.everydayhealthgroup.com/everydayhealthgroup-careers#news | Page: 57\n",
      "Crawled: https://www.everydayhealthgroup.com/everydayhealthgroup-careers#culture | Page: 58\n",
      "Crawled: https://www.everydayhealthgroup.com/everydayhealthgroup-careers#careers | Page: 59\n",
      "Crawled: https://www.everydayhealthgroup.com/everydayhealthgroup-careers#contact | Page: 60\n",
      "Crawled: https://www.everydayhealthgroup.com/cdn-cgi/l/email-protection#cfa6a1a9a08faab9aabdb6abaeb6a7aaaea3bba7a8bda0babfe1aca0a2 | Page: 61\n",
      "Crawled: https://www.everydayhealthgroup.com/dan-stone-bio#page | Page: 62\n",
      "Crawled: https://www.everydayhealthgroup.com/dan-stone-bio#about | Page: 63\n",
      "Crawled: https://www.everydayhealthgroup.com/dan-stone-bio#brands | Page: 64\n",
      "Crawled: https://www.everydayhealthgroup.com/dan-stone-bio#team | Page: 65\n",
      "Crawled: https://www.everydayhealthgroup.com/dan-stone-bio#news | Page: 66\n",
      "Crawled: https://www.everydayhealthgroup.com/dan-stone-bio#culture | Page: 67\n",
      "Crawled: https://www.everydayhealthgroup.com/dan-stone-bio#careers | Page: 68\n",
      "Crawled: https://www.everydayhealthgroup.com/dan-stone-bio#contact | Page: 69\n",
      "Crawled: https://www.everydayhealthgroup.com/home#team | Page: 70\n",
      "Crawled: https://www.everydayhealthgroup.com/cdn-cgi/l/email-protection#ef86818980af8a998a9d968b8e96878a8e839b87889d809a9fc18c8082 | Page: 71\n",
      "Crawled: https://www.everydayhealthgroup.com/tom-dehn-bio#page | Page: 72\n",
      "Crawled: https://www.everydayhealthgroup.com/tom-dehn-bio#about | Page: 73\n",
      "Crawled: https://www.everydayhealthgroup.com/tom-dehn-bio#brands | Page: 74\n",
      "Crawled: https://www.everydayhealthgroup.com/tom-dehn-bio#team | Page: 75\n",
      "Crawled: https://www.everydayhealthgroup.com/tom-dehn-bio#news | Page: 76\n",
      "Crawled: https://www.everydayhealthgroup.com/tom-dehn-bio#culture | Page: 77\n",
      "Crawled: https://www.everydayhealthgroup.com/tom-dehn-bio#careers | Page: 78\n",
      "Crawled: https://www.everydayhealthgroup.com/tom-dehn-bio#contact | Page: 79\n",
      "Crawled: https://www.everydayhealthgroup.com/cdn-cgi/l/email-protection#f29b9c949db2978497808b96938b9a97939e869a95809d8782dc919d9f | Page: 80\n",
      "Crawled: https://www.everydayhealthgroup.com/deb-goetz-bio#page | Page: 81\n",
      "Crawled: https://www.everydayhealthgroup.com/deb-goetz-bio#about | Page: 82\n",
      "Crawled: https://www.everydayhealthgroup.com/deb-goetz-bio#brands | Page: 83\n",
      "Crawled: https://www.everydayhealthgroup.com/deb-goetz-bio#team | Page: 84\n",
      "Crawled: https://www.everydayhealthgroup.com/deb-goetz-bio#news | Page: 85\n",
      "Crawled: https://www.everydayhealthgroup.com/deb-goetz-bio#culture | Page: 86\n",
      "Crawled: https://www.everydayhealthgroup.com/deb-goetz-bio#careers | Page: 87\n",
      "Crawled: https://www.everydayhealthgroup.com/deb-goetz-bio#contact | Page: 88\n",
      "Crawled: https://www.everydayhealthgroup.com/cdn-cgi/l/email-protection#8ee7e0e8e1ceebf8ebfcf7eaeff7e6ebefe2fae6e9fce1fbfea0ede1e3 | Page: 89\n",
      "Crawled: https://www.everydayhealthgroup.com/sean-alford-bio#page | Page: 90\n",
      "Crawled: https://www.everydayhealthgroup.com/sean-alford-bio#about | Page: 91\n",
      "Crawled: https://www.everydayhealthgroup.com/sean-alford-bio#brands | Page: 92\n",
      "Crawled: https://www.everydayhealthgroup.com/sean-alford-bio#team | Page: 93\n",
      "Crawled: https://www.everydayhealthgroup.com/sean-alford-bio#news | Page: 94\n",
      "Crawled: https://www.everydayhealthgroup.com/sean-alford-bio#culture | Page: 95\n",
      "Crawled: https://www.everydayhealthgroup.com/sean-alford-bio#careers | Page: 96\n",
      "Crawled: https://www.everydayhealthgroup.com/sean-alford-bio#contact | Page: 97\n"
     ]
    },
    {
     "name": "stdout",
     "output_type": "stream",
     "text": [
      "Crawled: https://www.everydayhealthgroup.com/george-wukoson-bio#page | Page: 98\n",
      "Crawled: https://www.everydayhealthgroup.com/george-wukoson-bio#about | Page: 99\n",
      "Crawled: https://www.everydayhealthgroup.com/george-wukoson-bio#brands | Page: 100\n"
     ]
    }
   ],
   "source": [
    "# Crawl the website to collect up to 100 URLs\n",
    "urls = crawl_website(start_url, max_pages=100)"
   ]
  },
  {
   "cell_type": "code",
   "execution_count": 11,
   "id": "9868bdcd",
   "metadata": {},
   "outputs": [
    {
     "name": "stdout",
     "output_type": "stream",
     "text": [
      "Scraping https://www.everydayhealthgroup.com/everydayhealthgroup-careers#contact...\n",
      "Scraping https://www.everydayhealthgroup.com/deb-goetz-bio...\n",
      "Scraping https://www.everydayhealthgroup.com/dan-stone-bio#careers...\n",
      "Scraping https://www.everydayhealthgroup.com/george-wukoson-bio#page...\n",
      "Scraping https://www.everydayhealthgroup.com/cdn-cgi/l/email-protection#2841464e47684d5e4d5a514c4951404d49445c404f5a475d58064b4745...\n",
      "Scraping https://www.everydayhealthgroup.com/everydayhealthgroup-careers#careers...\n",
      "Scraping https://www.everydayhealthgroup.com/sean-alford-bio#culture...\n",
      "Scraping https://www.everydayhealthgroup.com/cdn-cgi/l/email-protection#cda4a3aba28da8bba8bfb4a9acb4a5a8aca1b9a5aabfa2b8bde3aea2a0...\n",
      "Scraping https://www.everydayhealthgroup.com/sean-alford-bio#brands...\n",
      "Scraping https://www.everydayhealthgroup.com/cdn-cgi/l/email-protection#cfa6a1a9a08faab9aabdb6abaeb6a7aaaea3bba7a8bda0babfe1aca0a2...\n",
      "Scraping https://www.everydayhealthgroup.com/everydayhealthgroup-careers#culture...\n",
      "Scraping https://www.everydayhealthgroup.com/todd-zander-bio...\n",
      "Scraping https://www.everydayhealthgroup.com/dan-stone-bio...\n",
      "Scraping https://www.everydayhealthgroup.com/tom-dehn-bio#news...\n",
      "Scraping https://www.everydayhealthgroup.com/in-the-news/mom-20-iris-awards-to-join-babycenter...\n",
      "Scraping https://www.everydayhealthgroup.com/#culture...\n",
      "Scraping https://www.everydayhealthgroup.com/rachel-warren-bio...\n",
      "Scraping https://www.everydayhealthgroup.com/cart#team...\n",
      "Scraping https://www.everydayhealthgroup.com/#page...\n",
      "Scraping https://www.everydayhealthgroup.com/nan-forte-bio...\n",
      "Scraping https://www.everydayhealthgroup.com/cart#news...\n",
      "Scraping https://www.everydayhealthgroup.com/dan-stone-bio#contact...\n",
      "Scraping https://www.everydayhealthgroup.com/deb-goetz-bio#contact...\n",
      "Scraping https://www.everydayhealthgroup.com/#contact...\n",
      "Scraping https://www.everydayhealthgroup.com/in-the-news/lose-it-joins-everyday-health-group...\n",
      "Scraping https://www.everydayhealthgroup.com/cdn-cgi/l/email-protection#ee87808881ae8b988b9c978a8f97868b8f829a86899c819b9ec08d8183...\n",
      "Scraping https://www.everydayhealthgroup.com/heidi-cho-bio...\n",
      "Scraping https://www.everydayhealthgroup.com/cdn-cgi/l/email-protection#8ce5e2eae3cce9fae9fef5e8edf5e4e9ede0f8e4ebfee3f9fca2efe3e1...\n",
      "Scraping https://www.everydayhealthgroup.com/greg-chang-bio...\n",
      "Scraping https://www.everydayhealthgroup.com/chris-mcloughlin-bio...\n",
      "Scraping https://www.everydayhealthgroup.com/deb-goetz-bio#team...\n",
      "Scraping https://www.everydayhealthgroup.com/tom-dehn-bio#contact...\n",
      "Scraping https://www.everydayhealthgroup.com/tom-dehn-bio#careers...\n",
      "Scraping https://www.everydayhealthgroup.com/dan-stone-bio#news...\n",
      "Scraping https://www.everydayhealthgroup.com/accessibility...\n",
      "Scraping https://www.everydayhealthgroup.com/chris-napolitan-bio...\n",
      "Scraping https://www.everydayhealthgroup.com/deb-goetz-bio#page...\n",
      "Scraping https://www.everydayhealthgroup.com/tom-dehn-bio#page...\n",
      "Scraping https://www.everydayhealthgroup.com/...\n",
      "Scraping https://www.everydayhealthgroup.com/cdn-cgi/l/email-protection#f39a9d959cb3968596818a97928a9b96929f879b94819c8683dd909c9e...\n",
      "Scraping https://www.everydayhealthgroup.com/cart#about...\n",
      "Scraping https://www.everydayhealthgroup.com/#team...\n",
      "Scraping https://www.everydayhealthgroup.com/christine-mattheis-bio...\n",
      "Scraping https://www.everydayhealthgroup.com/cdn-cgi/l/email-protection#8ee7e0e8e1ceebf8ebfcf7eaeff7e6ebefe2fae6e9fce1fbfea0ede1e3...\n",
      "Scraping https://www.everydayhealthgroup.com/tom-dehn-bio...\n",
      "Scraping https://www.everydayhealthgroup.com/dan-stone-bio#brands...\n",
      "Scraping https://www.everydayhealthgroup.com/tom-dehn-bio#brands...\n",
      "Scraping https://www.everydayhealthgroup.com/cart...\n",
      "Scraping https://www.everydayhealthgroup.com/george-wukoson-bio#about...\n",
      "Scraping https://www.everydayhealthgroup.com/sean-alford-bio#careers...\n",
      "Scraping https://www.everydayhealthgroup.com/everydayhealthgroup-careers#team...\n",
      "Scraping https://www.everydayhealthgroup.com/dan-stone-bio#culture...\n",
      "Scraping https://www.everydayhealthgroup.com/deb-goetz-bio#news...\n",
      "Scraping https://www.everydayhealthgroup.com/tom-carr-bio...\n",
      "Scraping https://www.everydayhealthgroup.com/everydayhealthgroup-careers#news...\n",
      "Scraping https://www.everydayhealthgroup.com/cdn-cgi/l/email-protection#ef86818980af8a998a9d968b8e96878a8e839b87889d809a9fc18c8082...\n",
      "Scraping https://www.everydayhealthgroup.com/everydayhealthgroup-careers#brands...\n",
      "Scraping https://www.everydayhealthgroup.com/#brands...\n",
      "Scraping https://www.everydayhealthgroup.com/in-the-news/diabetes-daily...\n",
      "Scraping https://www.everydayhealthgroup.com/cart#page...\n",
      "Scraping https://www.everydayhealthgroup.com/sean-alford-bio#team...\n",
      "Scraping https://www.everydayhealthgroup.com/deb-goetz-bio#brands...\n",
      "Scraping https://www.everydayhealthgroup.com/sean-alford-bio#contact...\n",
      "Scraping https://www.everydayhealthgroup.com/steve-bio...\n",
      "Scraping https://www.everydayhealthgroup.com/cdn-cgi/l/email-protection#fb92959d94bb9e8d9e89829f9a82939e9a978f939c89948e8bd5989496...\n",
      "Scraping https://www.everydayhealthgroup.com/cart#culture...\n",
      "Scraping https://www.everydayhealthgroup.com/cdn-cgi/l/email-protection#fa93949c95ba9f8c9f88839e9b83929f9b968e929d88958f8ad4999597...\n",
      "Scraping https://www.everydayhealthgroup.com/everydayhealthgroup-careers#about...\n",
      "Scraping https://www.everydayhealthgroup.com/deb-goetz-bio#careers...\n",
      "Scraping https://www.everydayhealthgroup.com/everydayhealthgroup-careers#page...\n",
      "Scraping https://www.everydayhealthgroup.com/sean-alford-bio...\n",
      "Scraping https://www.everydayhealthgroup.com/cart#brands...\n",
      "Scraping https://www.everydayhealthgroup.com/sean-alford-bio#page...\n",
      "Scraping https://www.everydayhealthgroup.com/cart#contact...\n",
      "Scraping https://www.everydayhealthgroup.com/cdn-cgi/l/email-protection#f29b9c949db2978497808b96938b9a97939e869a95809d8782dc919d9f...\n",
      "Scraping https://www.everydayhealthgroup.com/tom-dehn-bio#culture...\n",
      "Scraping https://www.everydayhealthgroup.com/dan-stone-bio#about...\n",
      "Scraping https://www.everydayhealthgroup.com/richard-bio...\n",
      "Scraping https://www.everydayhealthgroup.com/dan-stone-bio#team...\n",
      "Scraping https://www.everydayhealthgroup.com/tom-dehn-bio#team...\n",
      "Scraping https://www.everydayhealthgroup.com/sean-alford-bio#news...\n",
      "Scraping https://www.everydayhealthgroup.com/everydayhealthgroup-careers...\n",
      "Scraping https://www.everydayhealthgroup.com/cart#careers...\n",
      "Scraping https://www.everydayhealthgroup.com/cdn-cgi/l/email-protection#a3cacdc5cce3c6d5c6d1dac7c2dacbc6c2cfd7cbc4d1ccd6d38dc0ccce...\n",
      "Scraping https://www.everydayhealthgroup.com/george-wukoson-bio...\n",
      "Scraping https://www.everydayhealthgroup.com/anita-janapati-bio...\n",
      "Scraping https://www.everydayhealthgroup.com/david-bernstein-bio...\n",
      "Scraping https://www.everydayhealthgroup.com/in-the-news/everyday-health-weight-loss-research-study...\n",
      "Scraping https://www.everydayhealthgroup.com/cdn-cgi/l/email-protection#e28b8c848da2879487909b86839b8a87838e968a85908d9792cc818d8f...\n",
      "Scraping https://www.everydayhealthgroup.com/deb-goetz-bio#culture...\n",
      "Scraping https://www.everydayhealthgroup.com/home#team...\n",
      "Scraping https://www.everydayhealthgroup.com/tom-dehn-bio#about...\n",
      "Scraping https://www.everydayhealthgroup.com/george-wukoson-bio#brands...\n",
      "Scraping https://www.everydayhealthgroup.com/in-the-news/bp-hope-hope-to-cope...\n",
      "Scraping https://www.everydayhealthgroup.com/#news...\n",
      "Scraping https://www.everydayhealthgroup.com/deb-goetz-bio#about...\n",
      "Scraping https://www.everydayhealthgroup.com/#about...\n",
      "Scraping https://www.everydayhealthgroup.com/sean-alford-bio#about...\n",
      "Scraping https://www.everydayhealthgroup.com/#careers...\n",
      "Scraping https://www.everydayhealthgroup.com/dan-stone-bio#page...\n"
     ]
    }
   ],
   "source": [
    "# Collect NLP statistics for each page in the list of URLs\n",
    "results = []\n",
    "for url in urls:\n",
    "    print(f\"Scraping {url}...\")  # Print the URL being scraped\n",
    "    try:\n",
    "        content = scrape_page(url)  # Scrape the content of the page\n",
    "        stats = calculate_nlp_statistics(content)  # Calculate NLP statistics for the page content\n",
    "        results.append(stats)  # Add the statistics to the results list\n",
    "    except Exception as e:  # Handle any exceptions during scraping\n",
    "        print(f\"Failed to scrape {url}: {e}\")\n"
   ]
  },
  {
   "cell_type": "code",
   "execution_count": 12,
   "id": "a747ffd0",
   "metadata": {},
   "outputs": [
    {
     "name": "stdout",
     "output_type": "stream",
     "text": [
      "Scarping complete. Results is saved to 'nlp_statistics.csv'\n"
     ]
    }
   ],
   "source": [
    "# Save the results to a CSV file\n",
    "save_results_to_csv(results, 'nlp_statistics.csv')\n",
    "print(\"Scarping complete. Results is saved to 'nlp_statistics.csv'\") #Print a message"
   ]
  },
  {
   "cell_type": "code",
   "execution_count": 13,
   "id": "b8c71112",
   "metadata": {},
   "outputs": [
    {
     "name": "stdout",
     "output_type": "stream",
     "text": [
      "Aggregated results containing the statistics is saved to 'aggregated_results.csv'.\n"
     ]
    }
   ],
   "source": [
    "# Calculate and save the aggregated results\n",
    "if results:\n",
    "    aggregated_result = calculate_aggregated_statistics(results)\n",
    "    save_aggregated_results(aggregated_result, 'aggregated_results.csv')\n",
    "    \n",
    "\n",
    "print(\"Aggregated results containing the statistics is saved to 'aggregated_results.csv'.\") # Print a completion message\n"
   ]
  },
  {
   "cell_type": "code",
   "execution_count": null,
   "id": "522d2e44",
   "metadata": {},
   "outputs": [],
   "source": []
  },
  {
   "cell_type": "code",
   "execution_count": null,
   "id": "311c95f6",
   "metadata": {},
   "outputs": [],
   "source": []
  },
  {
   "cell_type": "code",
   "execution_count": null,
   "id": "8a8a661c",
   "metadata": {},
   "outputs": [],
   "source": []
  }
 ],
 "metadata": {
  "kernelspec": {
   "display_name": "Python 3 (ipykernel)",
   "language": "python",
   "name": "python3"
  },
  "language_info": {
   "codemirror_mode": {
    "name": "ipython",
    "version": 3
   },
   "file_extension": ".py",
   "mimetype": "text/x-python",
   "name": "python",
   "nbconvert_exporter": "python",
   "pygments_lexer": "ipython3",
   "version": "3.11.5"
  }
 },
 "nbformat": 4,
 "nbformat_minor": 5
}
